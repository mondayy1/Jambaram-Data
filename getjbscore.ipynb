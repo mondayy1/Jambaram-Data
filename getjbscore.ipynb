{
 "cells": [
  {
   "cell_type": "code",
   "execution_count": 7,
   "metadata": {},
   "outputs": [],
   "source": [
    "import pandas\n",
    "import numpy as np\n",
    "import requests\n",
    "import json\n",
    "\n",
    "with open('testdata.json') as f:\n",
    "    data = json.loads(f.read())"
   ]
  },
  {
   "cell_type": "code",
   "execution_count": 9,
   "metadata": {},
   "outputs": [
    {
     "name": "stdout",
     "output_type": "stream",
     "text": [
      "39.30200922132559 33.593781509605755 7.306442687988281\n",
      "80.20223341891962\n",
      "--------------------------------------------------\n",
      "36.581613979384976 31.519610436722328 0.24643603515624998\n",
      "68.34766045126355\n"
     ]
    }
   ],
   "source": [
    "dpm = 0; gpm = 0; ehns = 0\n",
    "\n",
    "participants_blue = data['info']['participants'][:5]\n",
    "participants_red = data['info']['participants'][5:]\n",
    "for participant in participants_blue:\n",
    "    dpm += participant['challenges']['damagePerMinute'] / 2 / 100\n",
    "    gpm += participant['challenges']['goldPerMinute'] / 100\n",
    "    ehns += participant['challenges']['effectiveHealAndShielding'] / 2000\n",
    "\n",
    "print(dpm*1.1, gpm*0.9, ehns*0.5)\n",
    "print(dpm*1.1+gpm*0.9+ehns*0.5)\n",
    "\n",
    "print('--------------------------------------------------')\n",
    "dpm = 0; gpm = 0; ehns = 0\n",
    "for participant in participants_red:\n",
    "    dpm += participant['challenges']['damagePerMinute'] / 2 / 100\n",
    "    gpm += participant['challenges']['goldPerMinute'] / 100\n",
    "    ehns += participant['challenges']['effectiveHealAndShielding'] / 2000\n",
    "\n",
    "print(dpm*1.1, gpm*0.9, ehns*0.5)\n",
    "print(dpm*1.1+gpm*0.9+ehns*0.5)\n"
   ]
  },
  {
   "cell_type": "code",
   "execution_count": 6,
   "metadata": {},
   "outputs": [
    {
     "data": {
      "text/plain": [
       "dict"
      ]
     },
     "execution_count": 6,
     "metadata": {},
     "output_type": "execute_result"
    }
   ],
   "source": [
    "type(participant)"
   ]
  },
  {
   "cell_type": "code",
   "execution_count": null,
   "metadata": {},
   "outputs": [
    {
     "data": {
      "text/html": [
       "<div>\n",
       "<style scoped>\n",
       "    .dataframe tbody tr th:only-of-type {\n",
       "        vertical-align: middle;\n",
       "    }\n",
       "\n",
       "    .dataframe tbody tr th {\n",
       "        vertical-align: top;\n",
       "    }\n",
       "\n",
       "    .dataframe thead th {\n",
       "        text-align: right;\n",
       "    }\n",
       "</style>\n",
       "<table border=\"1\" class=\"dataframe\">\n",
       "  <thead>\n",
       "    <tr style=\"text-align: right;\">\n",
       "      <th></th>\n",
       "      <th>1</th>\n",
       "      <th>2</th>\n",
       "      <th>3</th>\n",
       "      <th>4</th>\n",
       "      <th>5</th>\n",
       "      <th>6</th>\n",
       "      <th>7</th>\n",
       "      <th>8</th>\n",
       "      <th>9</th>\n",
       "      <th>10</th>\n",
       "      <th>...</th>\n",
       "      <th>875</th>\n",
       "      <th>876</th>\n",
       "      <th>887</th>\n",
       "      <th>888</th>\n",
       "      <th>895</th>\n",
       "      <th>897</th>\n",
       "      <th>901</th>\n",
       "      <th>902</th>\n",
       "      <th>910</th>\n",
       "      <th>950</th>\n",
       "    </tr>\n",
       "  </thead>\n",
       "  <tbody>\n",
       "  </tbody>\n",
       "</table>\n",
       "<p>0 rows × 167 columns</p>\n",
       "</div>"
      ],
      "text/plain": [
       "Empty DataFrame\n",
       "Columns: [1, 2, 3, 4, 5, 6, 7, 8, 9, 10, 11, 12, 13, 14, 15, 16, 17, 18, 19, 20, 21, 22, 23, 24, 25, 26, 27, 28, 29, 30, 31, 32, 33, 34, 35, 36, 37, 38, 39, 40, 41, 42, 43, 44, 45, 48, 50, 51, 53, 54, 55, 56, 57, 58, 59, 60, 61, 62, 63, 64, 67, 68, 69, 72, 74, 75, 76, 77, 78, 79, 80, 81, 82, 83, 84, 85, 86, 89, 90, 91, 92, 96, 98, 99, 101, 102, 103, 104, 105, 106, 107, 110, 111, 112, 113, 114, 115, 117, 119, 120, ...]\n",
       "Index: []\n",
       "\n",
       "[0 rows x 167 columns]"
      ]
     },
     "metadata": {},
     "output_type": "display_data"
    }
   ],
   "source": []
  }
 ],
 "metadata": {
  "kernelspec": {
   "display_name": "jambaram-data",
   "language": "python",
   "name": "python3"
  },
  "language_info": {
   "codemirror_mode": {
    "name": "ipython",
    "version": 3
   },
   "file_extension": ".py",
   "mimetype": "text/x-python",
   "name": "python",
   "nbconvert_exporter": "python",
   "pygments_lexer": "ipython3",
   "version": "3.10.14"
  }
 },
 "nbformat": 4,
 "nbformat_minor": 2
}
